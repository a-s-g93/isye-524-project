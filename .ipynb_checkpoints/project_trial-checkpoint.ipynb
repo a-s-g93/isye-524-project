{
 "cells": [
  {
   "cell_type": "markdown",
   "id": "23c2ee22",
   "metadata": {},
   "source": [
    "### Define Parks"
   ]
  },
  {
   "cell_type": "code",
   "execution_count": 49,
   "id": "f9fa22f7",
   "metadata": {},
   "outputs": [
    {
     "data": {
      "text/plain": [
       "49-element Vector{String}:\n",
       " \"UW-Madison\"\n",
       " \"Acadia National Park\"\n",
       " \"Arches National Park\"\n",
       " \"Badlands National Park\"\n",
       " \"Big Bend National Park\"\n",
       " \"Biscayne National Park\"\n",
       " \"Black Canyon of the Gunnison National Park\"\n",
       " \"Bryce Canyon National Park\"\n",
       " \"Canyonlands National Park\"\n",
       " \"Capitol Reef National Park\"\n",
       " \"Carlsbad Caverns National Park\"\n",
       " \"Congaree National Park\"\n",
       " \"Crater Lake National Park\"\n",
       " ⋮\n",
       " \"Redwood National Park\"\n",
       " \"Rocky Mountain National Park\"\n",
       " \"Saguaro National Park\"\n",
       " \"Sequoia National Park\"\n",
       " \"Shenandoah National Park\"\n",
       " \"Theodore Roosevelt National Park\"\n",
       " \"Voyageurs National Park\"\n",
       " \"White Sands National Park\"\n",
       " \"Wind Cave National Park\"\n",
       " \"Yellowstone National Park\"\n",
       " \"Yosemite National Park\"\n",
       " \"Zion National Park\""
      ]
     },
     "execution_count": 49,
     "metadata": {},
     "output_type": "execute_result"
    }
   ],
   "source": [
    "park_names = [\"UW-Madison\",\n",
    "\"Acadia National Park\",\n",
    "\"Arches National Park\",\n",
    "\"Badlands National Park\",\n",
    "\"Big Bend National Park\",\n",
    "\"Biscayne National Park\",\n",
    "\"Black Canyon of the Gunnison National Park\",\n",
    "\"Bryce Canyon National Park\",\n",
    "\"Canyonlands National Park\",\n",
    "\"Capitol Reef National Park\",\n",
    "\"Carlsbad Caverns National Park\",\n",
    "\"Congaree National Park\",\n",
    "\"Crater Lake National Park\",\n",
    "\"Cuyahoga Valley National Park\",\n",
    "\"Death Valley National Park\",\n",
    "\"Everglades National Park\",\n",
    "\"Gateway Arch National Park\",\n",
    "\"Glacier National Park\",\n",
    "\"Grand Canyon National Park\",\n",
    "\"Grand Teton National Park\",\n",
    "\"Great Basin National Park\",\n",
    "\"Great Sand Dunes National Park\",\n",
    "\"Great Smoky Mountains National Park\",\n",
    "\"Guadalupe Mountains National Park\",\n",
    "\"Hot Springs National Park\",\n",
    "\"Indiana Dunes National Park\",\n",
    "\"Joshua Tree National Park\",\n",
    "\"Kings Canyon National Park\",\n",
    "\"Lassen Volcanic National Park\",\n",
    "\"Mammoth Cave National Park\",\n",
    "\"Mesa Verde National Park\",\n",
    "\"Mount Rainier National Park\",\n",
    "\"New River Gorge National Park\",\n",
    "\"North Cascades National Park\",\n",
    "\"Olympic National Park\",\n",
    "\"Petrified Forest National Park\",\n",
    "\"Pinnacles National Park\",\n",
    "\"Redwood National Park\",\n",
    "\"Rocky Mountain National Park\",\n",
    "\"Saguaro National Park\",\n",
    "\"Sequoia National Park\",\n",
    "\"Shenandoah National Park\",\n",
    "\"Theodore Roosevelt National Park\",\n",
    "\"Voyageurs National Park\",\n",
    "\"White Sands National Park\",\n",
    "\"Wind Cave National Park\",\n",
    "\"Yellowstone National Park\",\n",
    "\"Yosemite National Park\",\n",
    "\"Zion National Park\",]"
   ]
  },
  {
   "cell_type": "code",
   "execution_count": 31,
   "id": "84f5bcc0",
   "metadata": {},
   "outputs": [
    {
     "data": {
      "text/plain": [
       "1-element Vector{UnitRange{Int64}}:\n",
       " 1:49"
      ]
     },
     "execution_count": 31,
     "metadata": {},
     "output_type": "execute_result"
    }
   ],
   "source": [
    "parks = [1:49] # 48 parks with 1 origin (node 1)\n",
    "parks"
   ]
  },
  {
   "cell_type": "markdown",
   "id": "68d36556",
   "metadata": {},
   "source": [
    "### Helper Functions"
   ]
  },
  {
   "cell_type": "code",
   "execution_count": 32,
   "id": "5b56ab36",
   "metadata": {},
   "outputs": [
    {
     "data": {
      "text/plain": [
       "getAllSubtours (generic function with 1 method)"
      ]
     },
     "execution_count": 32,
     "metadata": {},
     "output_type": "execute_result"
    }
   ],
   "source": [
    "# HELPER FUNCTION: returns the cycle containing the city START.\n",
    "function getSubtour(x,start)\n",
    "    subtour = [start]\n",
    "    while true\n",
    "        j = subtour[end]\n",
    "        for k in parks\n",
    "            if x[k,j] == 1\n",
    "                push!(subtour,k)\n",
    "                break\n",
    "            end\n",
    "        end\n",
    "        if subtour[end] == start\n",
    "            break\n",
    "        end\n",
    "    end\n",
    "    return subtour\n",
    "end\n",
    "\n",
    "# HELPER FUNCTION: returns a list of all cycles\n",
    "function getAllSubtours(x)\n",
    "    nodesRemaining = parks\n",
    "    subtours = []\n",
    "    while length(nodesRemaining) > 0\n",
    "        subtour = getSubtour(x,nodesRemaining[1])\n",
    "        push!(subtours, subtour)\n",
    "        nodesRemaining = setdiff(nodesRemaining,subtour)\n",
    "    end\n",
    "    return subtours\n",
    "end\n",
    "\n",
    "# HELPER FUNCTION FOR MAPPING AIRPORTS\n",
    "\n",
    "# data = [ 33.636700  -84.427863 \n",
    "#          41.977320  -87.908005\n",
    "#          39.861667 -104.673166\n",
    "#          29.645417  -95.278888\n",
    "#          33.942437 -118.408121\n",
    "#          25.795361  -80.290110\n",
    "#          40.639926  -73.778694\n",
    "#          37.618806 -122.375416\n",
    "#          47.449889 -122.311777\n",
    "#          38.851444  -77.037721 ]\n",
    "# lat = Dict(zip(parks,data[:,1]))\n",
    "# lon = Dict(zip(parks,data[:,2]))"
   ]
  },
  {
   "cell_type": "code",
   "execution_count": 37,
   "id": "ffdafbda",
   "metadata": {},
   "outputs": [],
   "source": [
    "c = CSV.File(\"./trial.csv\", header=0) |> Tables.matrix\n",
    ";"
   ]
  },
  {
   "cell_type": "code",
   "execution_count": 51,
   "id": "f1478d3f",
   "metadata": {},
   "outputs": [
    {
     "name": "stdout",
     "output_type": "stream",
     "text": [
      "Set parameter Username\n",
      "Academic license - for non-commercial use only - expires 2023-07-13\n"
     ]
    },
    {
     "data": {
      "text/plain": [
       "49×49 Matrix{Float64}:\n",
       " 0.0  0.0  0.0  0.0  0.0  0.0  0.0  0.0  …  0.0  0.0  0.0  0.0  0.0  0.0  0.0\n",
       " 0.0  0.0  0.0  0.0  0.0  0.0  0.0  0.0     0.0  0.0  0.0  0.0  0.0  0.0  0.0\n",
       " 0.0  0.0  0.0  0.0  0.0  0.0  0.0  0.0     0.0  0.0  0.0  0.0  0.0  0.0  0.0\n",
       " 0.0  0.0  0.0  0.0  0.0  0.0  0.0  0.0     0.0  0.0  0.0  1.0  0.0  0.0  0.0\n",
       " 0.0  0.0  0.0  0.0  0.0  0.0  0.0  0.0     0.0  0.0  0.0  0.0  0.0  0.0  0.0\n",
       " 0.0  0.0  0.0  0.0  0.0  0.0  0.0  0.0  …  0.0  0.0  0.0  0.0  0.0  0.0  0.0\n",
       " 0.0  0.0  0.0  0.0  0.0  0.0  0.0  0.0     0.0  0.0  0.0  0.0  0.0  0.0  0.0\n",
       " 0.0  0.0  0.0  0.0  0.0  0.0  0.0  0.0     0.0  0.0  0.0  0.0  0.0  0.0  0.0\n",
       " 0.0  0.0  1.0  0.0  0.0  0.0  0.0  0.0     0.0  0.0  0.0  0.0  0.0  0.0  0.0\n",
       " 0.0  0.0  0.0  0.0  0.0  0.0  0.0  1.0     0.0  0.0  0.0  0.0  0.0  0.0  0.0\n",
       " 0.0  0.0  0.0  0.0  0.0  0.0  0.0  0.0  …  0.0  0.0  0.0  0.0  0.0  0.0  0.0\n",
       " 0.0  0.0  0.0  0.0  0.0  0.0  0.0  0.0     0.0  0.0  0.0  0.0  0.0  0.0  0.0\n",
       " 0.0  0.0  0.0  0.0  0.0  0.0  0.0  0.0     0.0  0.0  0.0  0.0  0.0  0.0  0.0\n",
       " ⋮                        ⋮              ⋱                 ⋮              \n",
       " 0.0  0.0  0.0  0.0  0.0  0.0  0.0  0.0     0.0  0.0  0.0  0.0  0.0  0.0  0.0\n",
       " 0.0  0.0  0.0  0.0  0.0  0.0  0.0  0.0     0.0  0.0  0.0  0.0  0.0  0.0  0.0\n",
       " 0.0  0.0  0.0  0.0  0.0  0.0  0.0  0.0     0.0  0.0  1.0  0.0  0.0  0.0  0.0\n",
       " 0.0  0.0  0.0  0.0  0.0  0.0  0.0  0.0  …  0.0  0.0  0.0  0.0  0.0  0.0  0.0\n",
       " 0.0  0.0  0.0  0.0  0.0  0.0  0.0  0.0     0.0  0.0  0.0  0.0  0.0  0.0  0.0\n",
       " 0.0  0.0  0.0  0.0  0.0  0.0  0.0  0.0     0.0  1.0  0.0  0.0  0.0  0.0  0.0\n",
       " 0.0  0.0  0.0  0.0  0.0  0.0  0.0  0.0     1.0  0.0  0.0  0.0  0.0  0.0  0.0\n",
       " 0.0  0.0  0.0  0.0  0.0  0.0  0.0  0.0     0.0  0.0  0.0  0.0  0.0  0.0  0.0\n",
       " 0.0  0.0  0.0  1.0  0.0  0.0  0.0  0.0  …  0.0  0.0  0.0  0.0  0.0  0.0  0.0\n",
       " 0.0  0.0  0.0  0.0  0.0  0.0  0.0  0.0     0.0  0.0  0.0  0.0  0.0  0.0  0.0\n",
       " 0.0  0.0  0.0  0.0  0.0  0.0  0.0  0.0     0.0  0.0  0.0  0.0  0.0  0.0  0.0\n",
       " 0.0  0.0  0.0  0.0  0.0  0.0  0.0  0.0     0.0  0.0  0.0  0.0  0.0  0.0  0.0"
      ]
     },
     "execution_count": 51,
     "metadata": {},
     "output_type": "execute_result"
    }
   ],
   "source": [
    "# solve the simplest version (min-cost flow version; it's an assignment problem)\n",
    "using JuMP, Gurobi, NamedArrays\n",
    "\n",
    "N = size(c, 1);\n",
    "\n",
    "m = Model(Gurobi.Optimizer)\n",
    "set_optimizer_attribute(m, \"OutputFlag\", 0)\n",
    "\n",
    "@variable(m, 0 <= x[1:49, 1:49] <= 1)                               # LP relaxation\n",
    "@constraint(m, c1[j in 1:49], sum( x[i,j] for i in 1:49 ) == 1)    # exacly one edge out of each node\n",
    "@constraint(m, c2[i in 1:49], sum( x[i,j] for j in 1:49 ) == 1)    # exactly one edge into each node\n",
    "@constraint(m, c3[i in 1:49], x[i,i] == 0 )                          # no self-loops\n",
    "@objective(m, Min, sum(x[i,j]*c[i,j] for i in 1:49, j in 1:49 ))  # minimize total cost\n",
    "optimize!(m)\n",
    "\n",
    "# print the solution\n",
    "xx = value.(x)"
   ]
  },
  {
   "cell_type": "code",
   "execution_count": 60,
   "id": "c4cdcdc0",
   "metadata": {},
   "outputs": [
    {
     "data": {
      "text/plain": [
       "1-element Vector{Any}:\n",
       " UnitRange{Int64}[1:49]"
      ]
     },
     "metadata": {},
     "output_type": "display_data"
    }
   ],
   "source": [
    "sol = NamedArray(zeros(Int,N,N),(keys(park_names),keys(park_names)))\n",
    "for i in parks\n",
    "    for j in parks\n",
    "        sol[i,j] = value.(xx[i,j])\n",
    "    end\n",
    "end\n",
    "println(sol)\n",
    "sleep(1)\n",
    "display(getAllSubtours(sol))"
   ]
  },
  {
   "cell_type": "code",
   "execution_count": null,
   "id": "2aea5829",
   "metadata": {},
   "outputs": [],
   "source": []
  }
 ],
 "metadata": {
  "kernelspec": {
   "display_name": "Julia 1.7.3",
   "language": "julia",
   "name": "julia-1.7"
  },
  "language_info": {
   "file_extension": ".jl",
   "mimetype": "application/julia",
   "name": "julia",
   "version": "1.7.3"
  }
 },
 "nbformat": 4,
 "nbformat_minor": 5
}
