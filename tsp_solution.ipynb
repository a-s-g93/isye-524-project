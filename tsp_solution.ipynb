{
 "cells": [
  {
   "cell_type": "markdown",
   "id": "803eaa62",
   "metadata": {},
   "source": [
    "## Define Parks"
   ]
  },
  {
   "cell_type": "code",
   "execution_count": 1,
   "id": "8c0fa3ba",
   "metadata": {},
   "outputs": [
    {
     "data": {
      "text/plain": [
       "2×24 Matrix{Int64}:\n",
       "  1   2   3   4   5   6   7   8   9  …  16  17  18  19  20  21  22  23  24\n",
       " 25  26  27  28  29  30  31  32  33     40  41  42  43  44  45  46  47  48"
      ]
     },
     "execution_count": 1,
     "metadata": {},
     "output_type": "execute_result"
    }
   ],
   "source": [
    "# Set names as numbers for ease-of-use\n",
    "park_names = [ 1  2  3  4  5  6  7  8  9 10 11 12 13 14 15 16 17 18 19 20 21 22 23 24\n",
    " 25 26 27 28 29 30 31 32 33 34 35 36 37 38 39 40 41 42 43 44 45 46 47 48]"
   ]
  },
  {
   "cell_type": "markdown",
   "id": "6bb84395",
   "metadata": {},
   "source": [
    "## Helper Functions"
   ]
  },
  {
   "cell_type": "code",
   "execution_count": 2,
   "id": "9aa1bf9c",
   "metadata": {},
   "outputs": [],
   "source": [
    "# HELPER FUNCTION: returns the cycle containing the city START.\n",
    "function getSubtour(x,start)\n",
    "    subtour = [start]\n",
    "    while true\n",
    "        j = subtour[end]\n",
    "        for k in park_names\n",
    "            if x[k,j] == 1\n",
    "                push!(subtour,k)\n",
    "                break\n",
    "            end\n",
    "        end\n",
    "        if subtour[end] == start\n",
    "            break\n",
    "        end\n",
    "    end\n",
    "    return subtour\n",
    "end\n",
    "\n",
    "# HELPER FUNCTION: returns a list of all cycles\n",
    "function getAllSubtours(x)\n",
    "    nodesRemaining = park_names\n",
    "    subtours = []\n",
    "    while length(nodesRemaining) > 0\n",
    "        subtour = getSubtour(x,nodesRemaining[1])\n",
    "        push!(subtours, subtour)\n",
    "        nodesRemaining = setdiff(nodesRemaining,subtour)\n",
    "    end\n",
    "    return subtours\n",
    "end\n",
    ";"
   ]
  },
  {
   "cell_type": "code",
   "execution_count": 3,
   "id": "706669a5",
   "metadata": {},
   "outputs": [],
   "source": [
    "using CSV, DataFrames\n",
    "c = CSV.File(\"./arc_data.csv\", header=0) |> Tables.matrix\n",
    ";"
   ]
  },
  {
   "cell_type": "markdown",
   "id": "20d77ce2",
   "metadata": {},
   "source": [
    "## MTZ Optimization Model for TSP"
   ]
  },
  {
   "cell_type": "code",
   "execution_count": 4,
   "id": "24e982a0",
   "metadata": {},
   "outputs": [
    {
     "name": "stdout",
     "output_type": "stream",
     "text": [
      "Set parameter Username\n",
      "Academic license - for non-commercial use only - expires 2023-07-13\n"
     ]
    },
    {
     "data": {
      "text/plain": [
       "1-element Vector{Any}:\n",
       " [1, 26, 14, 2, 42, 33, 12, 6, 16, 23  …  9, 3, 7, 22, 39, 46, 4, 43, 44, 1]"
      ]
     },
     "metadata": {},
     "output_type": "display_data"
    },
    {
     "name": "stdout",
     "output_type": "stream",
     "text": [
      "Tour length: 828885.0 seconds\n"
     ]
    }
   ],
   "source": [
    "using JuMP, Gurobi, NamedArrays\n",
    "m = Model(Gurobi.Optimizer)\n",
    "set_optimizer_attribute(m, \"OutputFlag\", 0)\n",
    "\n",
    "N = size(c, 1)\n",
    "\n",
    "@variable(m, x[park_names,park_names], Bin)                                      # must formulate as IP this time\n",
    "@constraint(m, c1[j in park_names], sum( x[i,j] for i in park_names ) == 1)      # one out-edge\n",
    "@constraint(m, c2[i in park_names], sum( x[i,j] for j in park_names ) == 1)      # one in-edge\n",
    "@constraint(m, c3[i in park_names], x[i,i] == 0 )                            # no self-loops\n",
    "@objective(m, Min, sum( x[i,j]*c[i,j] for i in park_names, j in park_names ))   # minimize total cost\n",
    "                                    \n",
    "# MTZ variables and constraints\n",
    "@variable(m, u[park_names])\n",
    "@constraint(m, c4[i in park_names, j in park_names[2:end]], u[i] - u[j] + N*x[i,j] <= N-1 )\n",
    "\n",
    "optimize!(m)\n",
    "xx = value.(x)\n",
    "subtours = getAllSubtours(xx) \n",
    "display(subtours)\n",
    "println(\"Tour length: \", objective_value(m), \" seconds\")"
   ]
  },
  {
   "cell_type": "markdown",
   "id": "c8cbc1df",
   "metadata": {},
   "source": [
    "## Suggested Solution"
   ]
  },
  {
   "cell_type": "code",
   "execution_count": 5,
   "id": "4103f502",
   "metadata": {},
   "outputs": [],
   "source": [
    "# Redefine park / location names to be easily readable\n",
    "park_names = [\"UW-Madison\",\n",
    "\"Acadia National Park\",\n",
    "\"Arches National Park\",\n",
    "\"Badlands National Park\",\n",
    "\"Big Bend National Park\",\n",
    "\"Biscayne National Park\",\n",
    "\"Black Canyon of the Gunnison National Park\",\n",
    "\"Bryce Canyon National Park\",\n",
    "\"Canyonlands National Park\",\n",
    "\"Capitol Reef National Park\",\n",
    "\"Carlsbad Caverns National Park\",\n",
    "\"Congaree National Park\",\n",
    "\"Crater Lake National Park\",\n",
    "\"Cuyahoga Valley National Park\",\n",
    "\"Death Valley National Park\",\n",
    "\"Everglades National Park\",\n",
    "\"Gateway Arch National Park\",\n",
    "\"Glacier National Park\",\n",
    "\"Grand Canyon National Park\",\n",
    "\"Grand Teton National Park\",\n",
    "\"Great Basin National Park\",\n",
    "\"Great Sand Dunes National Park\",\n",
    "\"Great Smoky Mountains National Park\",\n",
    "\"Guadalupe Mountains National Park\",\n",
    "\"Hot Springs National Park\",\n",
    "\"Indiana Dunes National Park\",\n",
    "\"Joshua Tree National Park\",\n",
    "\"Kings Canyon National Park\",\n",
    "\"Lassen Volcanic National Park\",\n",
    "\"Mammoth Cave National Park\",\n",
    "\"Mesa Verde National Park\",\n",
    "\"Mount Rainier National Park\",\n",
    "\"New River Gorge National Park\",\n",
    "\"North Cascades National Park\",\n",
    "\"Olympic National Park\",\n",
    "\"Petrified Forest National Park\",\n",
    "\"Pinnacles National Park\",\n",
    "\"Redwood National Park\",\n",
    "\"Rocky Mountain National Park\",\n",
    "\"Saguaro National Park\",\n",
    "\"Sequoia National Park\",\n",
    "\"Shenandoah National Park\",\n",
    "\"Theodore Roosevelt National Park\",\n",
    "\"Voyageurs National Park\",\n",
    "\"White Sands National Park\",\n",
    "\"Wind Cave National Park\",\n",
    "\"Yellowstone National Park\",\n",
    "\"Yosemite National Park\",\n",
    "\"Zion National Park\"]\n",
    ";"
   ]
  },
  {
   "cell_type": "code",
   "execution_count": 49,
   "id": "ae25e2a8",
   "metadata": {},
   "outputs": [
    {
     "name": "stdout",
     "output_type": "stream",
     "text": [
      " → UW-Madison  → Indiana Dunes National Park  → Cuyahoga Valley National Park  → Acadia National Park  → Shenandoah National Park  → New River Gorge National Park  → Congaree National Park  → Biscayne National Park  → Everglades National Park  → Great Smoky Mountains National Park  → Mammoth Cave National Park  → Gateway Arch National Park  → Hot Springs National Park  → Big Bend National Park  → Guadalupe Mountains National Park  → Carlsbad Caverns National Park  → White Sands National Park  → Saguaro National Park  → Joshua Tree National Park  → Death Valley National Park  → Yosemite National Park  → Kings Canyon National Park  → Sequoia National Park  → Pinnacles National Park  → Lassen Volcanic National Park  → Redwood National Park  → Crater Lake National Park  → Olympic National Park  → Mount Rainier National Park  → North Cascades National Park  → Glacier National Park  → Yellowstone National Park  → Grand Teton National Park  → Great Basin National Park  → Capitol Reef National Park  → Bryce Canyon National Park  → Grand Canyon National Park  → Petrified Forest National Park  → Mesa Verde National Park  → Canyonlands National Park  → Arches National Park  → Black Canyon of the Gunnison National Park  → Great Sand Dunes National Park  → Rocky Mountain National Park  → Wind Cave National Park  → Badlands National Park  → Theodore Roosevelt National Park  → Voyageurs National Park  → UW-Madison \n"
     ]
    }
   ],
   "source": [
    "# Describes optimal solution!\n",
    "sol_str = \"\"\n",
    "for loc in subtours\n",
    "    for num in loc\n",
    "        sol_str = sol_str * \" → \" * string(park_names[num]) * \" \"\n",
    "    end\n",
    "end\n",
    "println(sol_str)"
   ]
  },
  {
   "cell_type": "code",
   "execution_count": null,
   "id": "3b8fdd2e",
   "metadata": {},
   "outputs": [],
   "source": []
  }
 ],
 "metadata": {
  "kernelspec": {
   "display_name": "Julia 1.7.3",
   "language": "julia",
   "name": "julia-1.7"
  },
  "language_info": {
   "file_extension": ".jl",
   "mimetype": "application/julia",
   "name": "julia",
   "version": "1.7.3"
  }
 },
 "nbformat": 4,
 "nbformat_minor": 5
}
